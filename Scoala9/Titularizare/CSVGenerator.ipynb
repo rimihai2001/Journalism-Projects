{
  "nbformat": 4,
  "nbformat_minor": 0,
  "metadata": {
    "colab": {
      "provenance": []
    },
    "kernelspec": {
      "name": "python3",
      "display_name": "Python 3"
    },
    "language_info": {
      "name": "python"
    }
  },
  "cells": [
    {
      "cell_type": "code",
      "execution_count": null,
      "metadata": {
        "colab": {
          "base_uri": "https://localhost:8080/"
        },
        "id": "wUH4y3j67nOz",
        "outputId": "57b28d2a-5db9-4fd5-f4ea-5d0b995a421e"
      },
      "outputs": [
        {
          "output_type": "stream",
          "name": "stdout",
          "text": [
            "0        AB\n",
            "1        AR\n",
            "2        AG\n",
            "3        BC\n",
            "4        BH\n",
            "5        BN\n",
            "6        BR\n",
            "7        BT\n",
            "8        BV\n",
            "9        BZ\n",
            "10       CJ\n",
            "11       CL\n",
            "12       CS\n",
            "13       CT\n",
            "14       CV\n",
            "15       DB\n",
            "16       DJ\n",
            "17       GJ\n",
            "18       GL\n",
            "19       GR\n",
            "20       HD\n",
            "21       HR\n",
            "22       IF\n",
            "23       IL\n",
            "24       IS\n",
            "25       MH\n",
            "26       MM\n",
            "27       MS\n",
            "28       NT\n",
            "29       OT\n",
            "30       PH\n",
            "31       SM\n",
            "32       SB\n",
            "33       SV\n",
            "34       SJ\n",
            "35       TL\n",
            "36       TM\n",
            "37       TR\n",
            "38       VS\n",
            "39       VL\n",
            "40       VN\n",
            "41        B\n",
            "42    TOTAL\n",
            "Name: Județ, dtype: object\n",
            "\n",
            "Columns used for sum:\n",
            "Index(['7.00-7.99', '8.00-8.99', '9.00-9.99', '10.00'], dtype='object')\n"
          ]
        }
      ],
      "source": [
        "import pandas as pd\n",
        "\n",
        "nota_start = 7\n",
        "nota_finala = 10\n",
        "\n",
        "file_path = 'note_titularizare_all_INFORMATICA_SI_TEHNOLOGIA_INFORMATIEI_2023.xlsx'\n",
        "\n",
        "df = pd.read_excel(file_path)\n",
        "\n",
        "sum_columns = df.iloc[:, (nota_start+1):(nota_finala+2)]\n",
        "sums_per_row = sum_columns.sum(axis=1)\n",
        "\n",
        "df['Sum'] = sums_per_row\n",
        "\n",
        "print(df[\"Județ\"])\n",
        "print(\"\\nColumns used for sum:\")\n",
        "print(sum_columns.columns)\n"
      ]
    },
    {
      "cell_type": "code",
      "source": [
        "import pandas as pd\n",
        "\n",
        "nota_start = 7\n",
        "nota_finala = 10\n",
        "\n",
        "file_path = 'note_titularizare_all_INFORMATICA_SI_TEHNOLOGIA_INFORMATIEI_2023.xlsx'\n",
        "\n",
        "df = pd.read_excel(file_path)\n",
        "\n",
        "county_mapping = {\n",
        "    'AB': 'ALBA',\n",
        "    'AR': 'ARAD',\n",
        "    'AG': 'ARGES',\n",
        "    'BC': 'BACAU',\n",
        "    'BH': 'BIHOR',\n",
        "    'BN': 'BISTRITA-NASAUD',\n",
        "    'BR': 'BOTOSANI',\n",
        "    'BT': 'BRAILA',\n",
        "    'BV': 'BRASOV',\n",
        "    'BZ': 'BUZAU',\n",
        "    'CJ': 'CALARASI',\n",
        "    'CL': 'CARAS-SEVERIN',\n",
        "    'CS': 'CLUJ',\n",
        "    'CT': 'CONSTANTA',\n",
        "    'CV': 'COVASNA',\n",
        "    'DB': 'DAMBOVITA',\n",
        "    'DJ': 'DOLJ',\n",
        "    'GJ': 'GALATI',\n",
        "    'GL': 'GIURGIU',\n",
        "    'GR': 'GORJ',\n",
        "    'HD': 'HARGHITA',\n",
        "    'HR': 'HUNEDOARA',\n",
        "    'IF': 'IALOMITA',\n",
        "    'IL': 'IASI',\n",
        "    'IS': 'ILFOV',\n",
        "    'MH': 'MARAMURES',\n",
        "    'MM': 'MEHEDINTI',\n",
        "    'MS': 'BUCURESTI',\n",
        "    'NT': 'MURES',\n",
        "    'OT': 'NEAMT',\n",
        "    'PH': 'OLT',\n",
        "    'SM': 'PRAHOVA',\n",
        "    'SB': 'SALAJ',\n",
        "    'SV': 'SATU MARE',\n",
        "    'SJ': 'SIBIU',\n",
        "    'TL': 'SUCEAVA',\n",
        "    'TM': 'TELEORMAN',\n",
        "    'TR': 'TIMIS',\n",
        "    'VS': 'TULCEA',\n",
        "    'VL': 'VALCEA',\n",
        "    'VN': 'VASLUI',\n",
        "    'B': 'VRANCEA'\n",
        "}\n",
        "\n",
        "df['name'] = df['Județ'].map(county_mapping)\n",
        "\n",
        "sum_columns = df.iloc[:, (nota_start+1):(nota_finala+2)]\n",
        "sums_per_row = sum_columns.sum(axis=1)\n",
        "\n",
        "df['sum'] = sums_per_row\n",
        "\n",
        "result_df = df[['name', 'sum']]\n",
        "result_df.columns = ['name', 'value']\n",
        "\n",
        "output_file = 'romania_map_values.xlsx'\n",
        "result_df.to_excel(output_file, index=False)\n",
        "\n",
        "print(f\"The transformed DataFrame has been saved to {output_file}.\")\n"
      ],
      "metadata": {
        "colab": {
          "base_uri": "https://localhost:8080/"
        },
        "id": "koO9aiEHBC7y",
        "outputId": "6bf4966e-f9fa-4dda-dc01-8a6a03ed2a85"
      },
      "execution_count": null,
      "outputs": [
        {
          "output_type": "stream",
          "name": "stdout",
          "text": [
            "The transformed DataFrame has been saved to romania_map_values.xlsx.\n"
          ]
        }
      ]
    }
  ]
}