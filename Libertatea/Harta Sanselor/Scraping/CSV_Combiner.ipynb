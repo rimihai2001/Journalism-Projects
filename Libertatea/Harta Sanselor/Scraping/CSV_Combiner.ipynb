{
  "nbformat": 4,
  "nbformat_minor": 0,
  "metadata": {
    "colab": {
      "provenance": []
    },
    "kernelspec": {
      "name": "python3",
      "display_name": "Python 3"
    },
    "language_info": {
      "name": "python"
    }
  },
  "cells": [
    {
      "cell_type": "code",
      "source": [
        "import pandas as pd\n",
        "\n",
        "file1 = 'romania_map_values_completat (1).xlsx'\n",
        "df1 = pd.read_excel(file1)\n",
        "\n",
        "file2 = 'speranta_de_viata.xlsx'\n",
        "df2 = pd.read_excel(file2)\n",
        "\n",
        "combined_df = pd.concat([df1, df2], axis=1)\n",
        "\n",
        "\n",
        "combined_df.to_excel('file_out.xlsx', index=False)\n"
      ],
      "metadata": {
        "id": "OI6z1N6kdkUy"
      },
      "execution_count": null,
      "outputs": []
    },
    {
      "cell_type": "code",
      "source": [
        "import pandas as pd\n",
        "\n",
        "csv_file_path = 'procente_bac_1.csv'\n",
        "df = pd.read_csv(csv_file_path)\n",
        "\n",
        "df_sorted = df.sort_values(by='Judet')\n",
        "\n",
        "excel_file_path = 'output_bac_data.xlsx'\n",
        "df_sorted.to_excel(excel_file_path, index=False)\n",
        "\n",
        "print(f'Data sorted and exported to {excel_file_path}')\n"
      ],
      "metadata": {
        "colab": {
          "base_uri": "https://localhost:8080/"
        },
        "id": "H3WcWy90FPUI",
        "outputId": "de879ce8-a9ee-4c92-d006-9b714e763c89"
      },
      "execution_count": null,
      "outputs": [
        {
          "output_type": "stream",
          "name": "stdout",
          "text": [
            "Data sorted and exported to output_bac_data.xlsx\n"
          ]
        }
      ]
    },
    {
      "cell_type": "code",
      "source": [
        "import pandas as pd\n",
        "import json\n",
        "\n",
        "excel_file_path = 'file_out_json.xlsx'\n",
        "df = pd.read_excel(excel_file_path)\n",
        "\n",
        "json_data = df.set_index('judet').to_dict(orient='index')\n",
        "\n",
        "print(json_data)\n",
        "\n",
        "json_output_file_path = 'date_judete.json'\n",
        "with open(json_output_file_path, 'w') as json_file:\n",
        "    json.dump(json_data, json_file, indent=4)\n",
        "\n",
        "print(f'Data transformed and exported to {json_output_file_path}')\n"
      ],
      "metadata": {
        "colab": {
          "base_uri": "https://localhost:8080/"
        },
        "id": "42jKkWNWI-Sa",
        "outputId": "6789d065-1041-4325-d193-e1e6adaf2bcc"
      },
      "execution_count": null,
      "outputs": [
        {
          "output_type": "stream",
          "name": "stdout",
          "text": [
            "{'ALBA': {'salariu_med_net': 3923, 'speranta_viata': 76.76, 'rata_somaj': 3.55, 'promovare_en': 77.9, 'promovare_bac': 81.0}, 'ARAD': {'salariu_med_net': 3809, 'speranta_viata': 75.38, 'rata_somaj': 1.18, 'promovare_en': 69.4, 'promovare_bac': 71.0}, 'ARGES': {'salariu_med_net': 4013, 'speranta_viata': 76.16, 'rata_somaj': 3.55, 'promovare_en': 77.5, 'promovare_bac': 78.4}, 'BACAU': {'salariu_med_net': 3933, 'speranta_viata': 74.6, 'rata_somaj': 2.4, 'promovare_en': 75.8, 'promovare_bac': 81.9}, 'BIHOR': {'salariu_med_net': 3555, 'speranta_viata': 75.53, 'rata_somaj': 1.31, 'promovare_en': 75.7, 'promovare_bac': 76.5}, 'BISTRITA-NASAUD': {'salariu_med_net': 3542, 'speranta_viata': 76.4, 'rata_somaj': 3.13, 'promovare_en': 78.5, 'promovare_bac': 77.9}, 'BOTOSANI': {'salariu_med_net': 3564, 'speranta_viata': 74.97, 'rata_somaj': 2.97, 'promovare_en': 66.2, 'promovare_bac': 71.2}, 'BRAILA': {'salariu_med_net': 3542, 'speranta_viata': 74.84, 'rata_somaj': 3.11, 'promovare_en': 82.8, 'promovare_bac': 84.7}, 'BRASOV': {'salariu_med_net': 4139, 'speranta_viata': 77.37, 'rata_somaj': 2.44, 'promovare_en': 78.3, 'promovare_bac': 80.9}, 'BUZAU': {'salariu_med_net': 3632, 'speranta_viata': 75.33, 'rata_somaj': 5.24, 'promovare_en': 74.1, 'promovare_bac': 77.1}, 'CALARASI': {'salariu_med_net': 3613, 'speranta_viata': 74.21, 'rata_somaj': 5.1, 'promovare_en': 63.2, 'promovare_bac': 60.6}, 'CARAS-SEVERIN': {'salariu_med_net': 3410, 'speranta_viata': 75.63, 'rata_somaj': 2.43, 'promovare_en': 70.8, 'promovare_bac': 67.7}, 'CLUJ': {'salariu_med_net': 5525, 'speranta_viata': 77.47, 'rata_somaj': 1.16, 'promovare_en': 87.4, 'promovare_bac': 84.3}, 'CONSTANTA': {'salariu_med_net': 3892, 'speranta_viata': 75.73, 'rata_somaj': 1.96, 'promovare_en': 74.2, 'promovare_bac': 76.5}, 'COVASNA': {'salariu_med_net': 3657, 'speranta_viata': 75.65, 'rata_somaj': 5.33, 'promovare_en': 71.3, 'promovare_bac': 67.9}, 'DAMBOVITA': {'salariu_med_net': 3665, 'speranta_viata': 75.8, 'rata_somaj': 2.96, 'promovare_en': 69.2, 'promovare_bac': 68.7}, 'DOLJ': {'salariu_med_net': 3925, 'speranta_viata': 75.36, 'rata_somaj': 7.1, 'promovare_en': 73.2, 'promovare_bac': 70.8}, 'GALATI': {'salariu_med_net': 3913, 'speranta_viata': 75.37, 'rata_somaj': 4.9, 'promovare_en': 80.1, 'promovare_bac': 81.6}, 'GIURGIU': {'salariu_med_net': 3824, 'speranta_viata': 73.96, 'rata_somaj': 3.36, 'promovare_en': 70.5, 'promovare_bac': 61.3}, 'GORJ': {'salariu_med_net': 4134, 'speranta_viata': 76.33, 'rata_somaj': 3.02, 'promovare_en': 75.4, 'promovare_bac': 64.1}, 'HARGHITA': {'salariu_med_net': 3548, 'speranta_viata': 76.14, 'rata_somaj': 3.85, 'promovare_en': 72.6, 'promovare_bac': 62.0}, 'HUNEDOARA': {'salariu_med_net': 3417, 'speranta_viata': 75.27, 'rata_somaj': 4.38, 'promovare_en': 74.5, 'promovare_bac': 76.0}, 'IALOMITA': {'salariu_med_net': 3654, 'speranta_viata': 74.57, 'rata_somaj': 4.69, 'promovare_en': 68.2, 'promovare_bac': 69.0}, 'IASI': {'salariu_med_net': 4363, 'speranta_viata': 76.55, 'rata_somaj': 3.08, 'promovare_en': 77.9, 'promovare_bac': 82.2}, 'ILFOV': {'salariu_med_net': 4582, 'speranta_viata': 76.27, 'rata_somaj': 0.4600000000000001, 'promovare_en': 76.1, 'promovare_bac': 51.9}, 'MARAMURES': {'salariu_med_net': 3561, 'speranta_viata': 75.62, 'rata_somaj': 2.34, 'promovare_en': 76.2, 'promovare_bac': 70.3}, 'MEHEDINTI': {'salariu_med_net': 3664, 'speranta_viata': 75.64, 'rata_somaj': 6.69, 'promovare_en': 69.5, 'promovare_bac': 62.1}, 'BUCURESTI': {'salariu_med_net': 5842, 'speranta_viata': 78.4, 'rata_somaj': 0.9200000000000002, 'promovare_en': 88.9, 'promovare_bac': 78.8}, 'MURES': {'salariu_med_net': 4168, 'speranta_viata': 75.82, 'rata_somaj': 2.93, 'promovare_en': 71.5, 'promovare_bac': 68.4}, 'NEAMT': {'salariu_med_net': 3526, 'speranta_viata': 75.73, 'rata_somaj': 4.37, 'promovare_en': 71.3, 'promovare_bac': 78.1}, 'OLT': {'salariu_med_net': 3998, 'speranta_viata': 74.73, 'rata_somaj': 5.19, 'promovare_en': 74.7, 'promovare_bac': 69.4}, 'PRAHOVA': {'salariu_med_net': 4128, 'speranta_viata': 75.88, 'rata_somaj': 2.51, 'promovare_en': 82.3, 'promovare_bac': 78.2}, 'SALAJ': {'salariu_med_net': 3780, 'speranta_viata': 75.27, 'rata_somaj': 4.9, 'promovare_en': 71.9, 'promovare_bac': 69.0}, 'SATU MARE': {'salariu_med_net': 3604, 'speranta_viata': 74.24, 'rata_somaj': 3.54, 'promovare_en': 73.2, 'promovare_bac': 75.2}, 'SIBIU': {'salariu_med_net': 4694, 'speranta_viata': 76.9, 'rata_somaj': 2.7, 'promovare_en': 76.2, 'promovare_bac': 79.5}, 'SUCEAVA': {'salariu_med_net': 3445, 'speranta_viata': 76.31, 'rata_somaj': 5.19, 'promovare_en': 78.3, 'promovare_bac': 77.5}, 'TELEORMAN': {'salariu_med_net': 3194, 'speranta_viata': 75.19, 'rata_somaj': 7.76, 'promovare_en': 62.1, 'promovare_bac': 61.8}, 'TIMIS': {'salariu_med_net': 4954, 'speranta_viata': 76.85, 'rata_somaj': 0.8699999999999999, 'promovare_en': 76.1, 'promovare_bac': 75.6}, 'TULCEA': {'salariu_med_net': 3438, 'speranta_viata': 73.24, 'rata_somaj': 3.81, 'promovare_en': 71.5, 'promovare_bac': 69.0}, 'VALCEA': {'salariu_med_net': 3421, 'speranta_viata': 81.2, 'rata_somaj': 3.33, 'promovare_en': 77.6, 'promovare_bac': 75.7}, 'VASLUI': {'salariu_med_net': 3588, 'speranta_viata': 75.06, 'rata_somaj': 7.49, 'promovare_en': 63.7, 'promovare_bac': 70.9}, 'VRANCEA': {'salariu_med_net': 3275, 'speranta_viata': 75.8, 'rata_somaj': 3.81, 'promovare_en': 71.7, 'promovare_bac': 75.7}}\n",
            "Data transformed and exported to date_judete.json\n"
          ]
        }
      ]
    }
  ]
}