{
  "nbformat": 4,
  "nbformat_minor": 0,
  "metadata": {
    "colab": {
      "provenance": []
    },
    "kernelspec": {
      "name": "python3",
      "display_name": "Python 3"
    },
    "language_info": {
      "name": "python"
    }
  },
  "cells": [
    {
      "cell_type": "code",
      "execution_count": null,
      "metadata": {
        "id": "MqUTxt5rpG7u"
      },
      "outputs": [],
      "source": [
        "import requests\n",
        "from bs4 import BeautifulSoup\n",
        "\n",
        "def retrieve_names(url):\n",
        "    response = requests.get(url)\n",
        "\n",
        "    soup = BeautifulSoup(response.content, 'html.parser')\n",
        "\n",
        "    rows = soup.find_all('tr')\n",
        "\n",
        "\n",
        "    bac_data = []\n",
        "    for row in rows:\n",
        "\n",
        "      all_data = row.find_all(\"td\")\n",
        "      jud_data = []\n",
        "      for tdata in all_data:\n",
        "        text_content = tdata.get_text(strip=True)\n",
        "        jud_data.append(text_content)\n",
        "      bac_data.append(jud_data)\n",
        "\n",
        "    return bac_data\n",
        "\n",
        "url = \"https://www.bacplus.ro/top_judete/2023\"\n",
        "note_bac = retrieve_names(url)"
      ]
    },
    {
      "cell_type": "code",
      "source": [
        "print(note_bac)"
      ],
      "metadata": {
        "colab": {
          "base_uri": "https://localhost:8080/"
        },
        "id": "jAXVIjsItxeh",
        "outputId": "9ab9cd45-d198-40f5-afb6-f595faf26836"
      },
      "execution_count": null,
      "outputs": [
        {
          "output_type": "stream",
          "name": "stdout",
          "text": [
            "[[], ['1', 'Cluj', '7,69', '84,3%', '4.290', '7,98', '3.536'], ['2', 'Brăila', '7,6', '84,7%', '1.649', '7,68', '1.468'], ['3', 'Iași', '7,56', '82,2%', '5.305', '7,47', '4.860'], ['4', 'Alba', '7,55', '81%', '2.245', '7,83', '1.590'], ['5', 'Bacău', '7,53', '81,9%', '3.711', '7,27', '3.434'], ['6', 'Galați', '7,45', '81,6%', '3.237', '7,5', '2.932'], ['7', 'Prahova', '7,44', '78,2%', '5.323', '7,59', '4.358'], ['8', 'Brașov', '7,44', '80,9%', '3.241', '7,82', '3.008'], ['9', 'Sibiu', '7,41', '79,5%', '2.487', '7,46', '2.263'], ['10', 'București', '7,38', '78,8%', '16.579', '8,06', '12.573'], ['11', 'Neamț', '7,33', '78,1%', '3.177', '7,55', '2.563'], ['12', 'Buzău', '7,31', '77,1%', '2.559', '7,3', '2.313'], ['13', 'Argeș', '7,3', '78,4%', '4.194', '7,63', '3.438'], ['14', 'Bihor', '7,3', '76,5%', '3.537', '7,22', '3.033'], ['15', 'Vâlcea', '7,29', '75,7%', '2.402', '7,13', '2.000'], ['16', 'Vrancea', '7,28', '75,7%', '2.182', '6,86', '2.054'], ['17', 'Bistrița-Năsăud', '7,26', '77,9%', '1.857', '7,15', '1.782'], ['18', 'Suceava', '7,26', '77,5%', '5.169', '7,18', '4.718'], ['19', 'Constanța', '7,24', '76,5%', '4.863', '7,56', '3.925'], ['20', 'Hunedoara', '7,21', '76%', '2.361', '7,06', '1.949'], ['21', 'Satu Mare', '7,18', '75,2%', '1.876', '7,27', '1.638'], ['22', 'Timiș', '7,16', '75,6%', '4.266', '7,21', '3.902'], ['23', 'Botoșani', '7,06', '71,2%', '2.785', '6,82', '2.704'], ['24', 'Covasna', '6,99', '67,9%', '1.198', '7,08', '956'], ['25', 'Vaslui', '6,98', '70,9%', '2.496', '6,65', '2.457'], ['26', 'Tulcea', '6,96', '69%', '1.144', '7,18', '1.045'], ['27', 'Sălaj', '6,94', '69%', '1.533', '6,92', '1.367'], ['28', 'Dolj', '6,94', '70,8%', '4.076', '7,06', '3.316'], ['29', 'Maramureș', '6,93', '70,3%', '3.384', '7,1', '2.590'], ['30', 'Mureș', '6,92', '68,4%', '3.379', '6,95', '2.882'], ['31', 'Olt', '6,91', '69,4%', '2.425', '6,88', '2.194'], ['32', 'Arad', '6,87', '71%', '2.770', '6,51', '2.460'], ['33', 'Ialomița', '6,83', '69%', '1.592', '7,12', '1.274'], ['34', 'Dâmbovița', '6,82', '68,7%', '3.004', '6,77', '2.727'], ['35', 'Caraș-Severin', '6,76', '67,7%', '1.696', '6,59', '1.311'], ['36', 'Harghita', '6,75', '62%', '2.119', '6,94', '1.700'], ['37', 'Gorj', '6,64', '64,1%', '2.910', '7,08', '1.999'], ['38', 'Giurgiu', '6,54', '61,3%', '1.158', '6,65', '1.409'], ['39', 'Mehedinți', '6,46', '62,1%', '1.819', '6,46', '1.324'], ['40', 'Călărași', '6,44', '60,6%', '1.382', '6,49', '1.442'], ['41', 'Teleorman', '6,44', '61,8%', '1.943', '6,18', '1.733'], ['42', 'Ilfov', '6,04', '51,9%', '1.199', '7,06', '2.520']]\n"
          ]
        }
      ]
    },
    {
      "cell_type": "code",
      "source": [
        "import csv\n",
        "\n",
        "csv_file = \"procente_bac.csv\"\n",
        "\n",
        "note_bac[0] = [\"Index\", \"Judet\", \"Rata Promovare BAC\", \"Candidati\", \"Medie\", \"Candidati EN\", \"Candidati BAC\"]\n",
        "\n",
        "with open(csv_file, mode='w', newline='') as file:\n",
        "    writer = csv.writer(file)\n",
        "    writer.writerows(note_bac)\n",
        "\n",
        "print(f\"Data has been exported to {csv_file}\")"
      ],
      "metadata": {
        "colab": {
          "base_uri": "https://localhost:8080/"
        },
        "id": "b1ZxHz8bthd6",
        "outputId": "8c2b4895-e89c-4542-d588-b25f9a34eaea"
      },
      "execution_count": null,
      "outputs": [
        {
          "output_type": "stream",
          "name": "stdout",
          "text": [
            "Data has been exported to procente_bac.csv\n"
          ]
        }
      ]
    },
    {
      "cell_type": "code",
      "source": [
        "import pandas as pd\n",
        "\n",
        "csv_file = \"procente_bac.csv\"\n",
        "\n",
        "df = pd.read_csv(csv_file)\n",
        "\n",
        "print(df)\n"
      ],
      "metadata": {
        "colab": {
          "base_uri": "https://localhost:8080/"
        },
        "id": "hG5llt7Yvdgd",
        "outputId": "cedbc60f-4b9e-4761-cdd9-50abeba23c76"
      },
      "execution_count": null,
      "outputs": [
        {
          "output_type": "stream",
          "name": "stdout",
          "text": [
            "    Index            Judet Rata Promovare BAC Candidati   Medie Candidati EN  \\\n",
            "0       2           Brăila                7,6     84,7%   1.649         7,68   \n",
            "1       3             Iași               7,56     82,2%   5.305         7,47   \n",
            "2       4             Alba               7,55       81%   2.245         7,83   \n",
            "3       5            Bacău               7,53     81,9%   3.711         7,27   \n",
            "4       6           Galați               7,45     81,6%   3.237          7,5   \n",
            "5       7          Prahova               7,44     78,2%   5.323         7,59   \n",
            "6       8           Brașov               7,44     80,9%   3.241         7,82   \n",
            "7       9            Sibiu               7,41     79,5%   2.487         7,46   \n",
            "8      10        București               7,38     78,8%  16.579         8,06   \n",
            "9      11            Neamț               7,33     78,1%   3.177         7,55   \n",
            "10     12            Buzău               7,31     77,1%   2.559          7,3   \n",
            "11     13            Argeș                7,3     78,4%   4.194         7,63   \n",
            "12     14            Bihor                7,3     76,5%   3.537         7,22   \n",
            "13     15           Vâlcea               7,29     75,7%   2.402         7,13   \n",
            "14     16          Vrancea               7,28     75,7%   2.182         6,86   \n",
            "15     17  Bistrița-Năsăud               7,26     77,9%   1.857         7,15   \n",
            "16     18          Suceava               7,26     77,5%   5.169         7,18   \n",
            "17     19        Constanța               7,24     76,5%   4.863         7,56   \n",
            "18     20        Hunedoara               7,21       76%   2.361         7,06   \n",
            "19     21        Satu Mare               7,18     75,2%   1.876         7,27   \n",
            "20     22            Timiș               7,16     75,6%   4.266         7,21   \n",
            "21     23         Botoșani               7,06     71,2%   2.785         6,82   \n",
            "22     24          Covasna               6,99     67,9%   1.198         7,08   \n",
            "23     25           Vaslui               6,98     70,9%   2.496         6,65   \n",
            "24     26           Tulcea               6,96       69%   1.144         7,18   \n",
            "25     27            Sălaj               6,94       69%   1.533         6,92   \n",
            "26     28             Dolj               6,94     70,8%   4.076         7,06   \n",
            "27     29        Maramureș               6,93     70,3%   3.384          7,1   \n",
            "28     30            Mureș               6,92     68,4%   3.379         6,95   \n",
            "29     31              Olt               6,91     69,4%   2.425         6,88   \n",
            "30     32             Arad               6,87       71%   2.770         6,51   \n",
            "31     33         Ialomița               6,83       69%   1.592         7,12   \n",
            "32     34        Dâmbovița               6,82     68,7%   3.004         6,77   \n",
            "33     35    Caraș-Severin               6,76     67,7%   1.696         6,59   \n",
            "34     36         Harghita               6,75       62%   2.119         6,94   \n",
            "35     37             Gorj               6,64     64,1%   2.910         7,08   \n",
            "36     38          Giurgiu               6,54     61,3%   1.158         6,65   \n",
            "37     39        Mehedinți               6,46     62,1%   1.819         6,46   \n",
            "38     40         Călărași               6,44     60,6%   1.382         6,49   \n",
            "39     41        Teleorman               6,44     61,8%   1.943         6,18   \n",
            "40     42            Ilfov               6,04     51,9%   1.199         7,06   \n",
            "\n",
            "    Candidati BAC  \n",
            "0           1.468  \n",
            "1           4.860  \n",
            "2           1.590  \n",
            "3           3.434  \n",
            "4           2.932  \n",
            "5           4.358  \n",
            "6           3.008  \n",
            "7           2.263  \n",
            "8          12.573  \n",
            "9           2.563  \n",
            "10          2.313  \n",
            "11          3.438  \n",
            "12          3.033  \n",
            "13          2.000  \n",
            "14          2.054  \n",
            "15          1.782  \n",
            "16          4.718  \n",
            "17          3.925  \n",
            "18          1.949  \n",
            "19          1.638  \n",
            "20          3.902  \n",
            "21          2.704  \n",
            "22        956.000  \n",
            "23          2.457  \n",
            "24          1.045  \n",
            "25          1.367  \n",
            "26          3.316  \n",
            "27          2.590  \n",
            "28          2.882  \n",
            "29          2.194  \n",
            "30          2.460  \n",
            "31          1.274  \n",
            "32          2.727  \n",
            "33          1.311  \n",
            "34          1.700  \n",
            "35          1.999  \n",
            "36          1.409  \n",
            "37          1.324  \n",
            "38          1.442  \n",
            "39          1.733  \n",
            "40          2.520  \n"
          ]
        }
      ]
    },
    {
      "cell_type": "code",
      "source": [
        "df.columns"
      ],
      "metadata": {
        "id": "l0L-Hm48vqLG",
        "outputId": "49ba4623-2565-4c17-a0d9-e3db8994f9c9",
        "colab": {
          "base_uri": "https://localhost:8080/"
        }
      },
      "execution_count": null,
      "outputs": [
        {
          "output_type": "execute_result",
          "data": {
            "text/plain": [
              "Index(['Index', 'Judet', 'Rata Promovare BAC', 'Candidati', 'Medie',\n",
              "       'Candidati EN', 'Candidati BAC'],\n",
              "      dtype='object')"
            ]
          },
          "metadata": {},
          "execution_count": 21
        }
      ]
    }
  ]
}